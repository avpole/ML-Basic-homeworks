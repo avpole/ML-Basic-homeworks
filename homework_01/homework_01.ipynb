{
 "cells": [
  {
   "cell_type": "markdown",
   "id": "8955a739",
   "metadata": {},
   "source": [
    "# Домашнее задание: Базовые типы данных\n",
    "\n"
   ]
  },
  {
   "cell_type": "markdown",
   "id": "d4e67b86",
   "metadata": {},
   "source": [
    "## Задание 1: Зеркальное отражение цифр\n",
    "\n",
    "Пользователь вводит пятизначное число. Программа должна зеркально отразить три центральные цифры. Первая и последняя остаются на местах.\n",
    "\n",
    "<br>\n",
    "\n",
    "**Примеры:**\n",
    "* `23456 -> 25436`\n",
    "* `30789 -> 38709`"
   ]
  },
  {
   "cell_type": "code",
   "execution_count": null,
   "id": "5a4d665d",
   "metadata": {},
   "outputs": [],
   "source": [
    "num_str = input(\"Введите пятизначное число: \")\n",
    "\n",
    "if len(num_str) == 5 and num_str.isdigit():\n",
    "    \n",
    "    first = num_str[0]\n",
    "    \n",
    "    last = num_str[4]\n",
    "    \n",
    "    middle = num_str[1:4]\n",
    "    \n",
    "    print(f\"{num_str} -> {first}{middle[::-1]}{last}\")\n",
    "\n",
    "else:\n",
    "    print(\"Ошибка: Введите ровно пятизначное число, состоящее только из цифр.\")\n",
    "\n",
    "\n"
   ]
  },
  {
   "cell_type": "markdown",
   "id": "00b9578b",
   "metadata": {},
   "source": [
    "## Задание 2: Подсчет выходных до отпуска\n",
    "\n",
    "Пользователь вводит сколько дней осталось до ближайшего отпуска. Программа должна вывести количество выходных дней до отпуска, если учесть, что выходные это суббота и воскресенье, сегодня понедельник и праздники мы не учитываем.  \n",
    "\n",
    "<br>\n",
    "\n",
    "**Примеры:**\n",
    "* `4  -> 0`\n",
    "* `6  -> 1`\n",
    "* `14 -> 4`"
   ]
  },
  {
   "cell_type": "code",
   "execution_count": null,
   "id": "07154103",
   "metadata": {},
   "outputs": [],
   "source": [
    "num_str = input(\"Введите количество дней до отпуска: \")\n",
    "\n",
    "if num_str.isdigit():\n",
    "    days = int(num_str);\n",
    "    remainder = days % 7 if days >= 7 else 0\n",
    "    quotient = days // 7 if days >= 7 else 0\n",
    "    saturnday = 1 if (quotient < 1 and days == 6) or (remainder == 6) else 0\n",
    "    weekends = saturnday + quotient * 2\n",
    "    \n",
    "    print( f\"Выходных до отпуска - {num_str} -> {weekends}\" )\n",
    "\n",
    "else:\n",
    "    print(\"Ошибка: Введите количество.\")"
   ]
  },
  {
   "cell_type": "markdown",
   "id": "cdde282c",
   "metadata": {},
   "source": [
    "## Задание 3: Плитка шоколада\n",
    "\n",
    "Пользователь вводит длину и ширину плитки шоколада, а также размер куска, который хочет отломить. Программа должна вычислить - можно ли совершить подобный разлом или нет, если учесть, что ломать можно только по прямой.\n",
    "\n",
    "<br>\n",
    "\n",
    "**Примеры:**\n",
    "* `3, 4, 6  -> True`\n",
    "* `5, 7, 8  -> False`\n",
    "* `4, 5, 12 -> True`"
   ]
  },
  {
   "cell_type": "code",
   "execution_count": null,
   "id": "70f3324c",
   "metadata": {},
   "outputs": [],
   "source": [
    "length_str = input(\"Введите длину плитки шоколада: \")\n",
    "\n",
    "width_str = input(\"Введите ширину плитки шоколада: \")\n",
    "\n",
    "piece_size_str = input(\"Введите размер куска, который хотите отломить: \")\n",
    "\n",
    "if length_str.isdigit() and width_str.isdigit() and piece_size_str.isdigit():\n",
    "    length = int(length_str)\n",
    "    width = int(width_str)\n",
    "    piece_size = int(piece_size_str)\n",
    "    can_break = False\n",
    "\n",
    "    if piece_size % width == 0 and (piece_size // width) <= length:\n",
    "        can_break = True\n",
    "            \n",
    "    if piece_size % length == 0 and (piece_size // length) <= width:\n",
    "        can_break = True\n",
    "\n",
    "    print(f\"{length}, {width}, {piece_size}  -> {can_break}\")\n",
    "    \n",
    "else: \n",
    "    print(\"Ошибка: Введите длину, ширину и размер куска как числа.\")\n",
    "\n"
   ]
  },
  {
   "cell_type": "markdown",
   "id": "6470efc1",
   "metadata": {},
   "source": [
    "## Задание 4: Римские числа\n",
    "\n",
    "Пользователь вводит целое положительное число, программа должна вернуть строку в виде римского числа.\n",
    "\n",
    "<br>\n",
    "\n",
    "**Примеры:**\n",
    "* `3   -> III`\n",
    "* `15  -> XV`\n",
    "* `234 -> CCXXXIV`"
   ]
  },
  {
   "cell_type": "code",
   "execution_count": null,
   "id": "8686127c",
   "metadata": {},
   "outputs": [],
   "source": [
    "def get_roman(digit, one, five, ten):\n",
    "    if digit == 0:\n",
    "        return \"\"\n",
    "    elif digit == 1:\n",
    "        return one\n",
    "    elif digit == 2:\n",
    "        return one + one\n",
    "    elif digit == 3:\n",
    "        return one + one + one\n",
    "    elif digit == 4:\n",
    "        return one + five\n",
    "    elif digit == 5:\n",
    "        return five\n",
    "    elif digit == 6:\n",
    "        return five + one\n",
    "    elif digit == 7:\n",
    "        return five + one + one\n",
    "    elif digit == 8:\n",
    "        return five + one + one + one\n",
    "    elif digit == 9:\n",
    "        return one + ten\n",
    "    else:\n",
    "        return \"\"\n",
    "\n",
    "num_str = input(\"Введите целое положительное число: \")\n",
    "\n",
    "if num_str.isdigit():\n",
    "    \n",
    "    num = int(num_str);\n",
    "\n",
    "    num_roman = \"\"\n",
    "    \n",
    "    thousands = num // 1000\n",
    "    num_roman += thousands * \"M\"\n",
    "    \n",
    "    hundreds = (num % 1000) // 100\n",
    "    num_roman += get_roman(hundreds, \"C\", \"D\", \"M\")\n",
    "    \n",
    "    tens = (num % 100) // 10\n",
    "    num_roman += get_roman(tens, \"X\", \"L\", \"C\")\n",
    "    \n",
    "    ones = num % 10\n",
    "    num_roman += get_roman(ones, \"I\", \"V\", \"X\")\n",
    "\n",
    "    print( f\"{num_str} -> {num_roman}\" )\n",
    "\n",
    "else:\n",
    "    print(\"Ошибка: Введите положительное число.\")"
   ]
  },
  {
   "cell_type": "markdown",
   "id": "ca6a4c0a",
   "metadata": {},
   "source": [
    "## Задание 5: Проверка на вещественное число\n",
    "\n",
    "Пользователь вводит данные, проверить - являются ли они положительным вещественным числом. Не использовать встроенные функции для проверки, только методы данных и конструкцию IF. (Дополнительное задание, по желанию - проверка на отрицательные вещественные числа)\n",
    "\n",
    "<br>\n",
    "\n",
    "**Примеры:**\n",
    "* `5.6  -> True`\n",
    "* `.78  -> True`\n",
    "* `.67. -> False`\n",
    "* `5    -> True`"
   ]
  },
  {
   "cell_type": "code",
   "execution_count": null,
   "id": "74e39179",
   "metadata": {},
   "outputs": [],
   "source": [
    "num_str = input(\"Введите число: \")\n",
    "\n",
    "has_minus = num_str.startswith(\"-\") and num_str.count(\"-\") == 1\n",
    "dot_count = num_str.count(\".\")\n",
    "num_str_no_dots_no_minus = num_str.replace(\".\", \"\")\n",
    "num_str_no_dots_no_minus = num_str_no_dots_no_minus[1:] if has_minus else num_str_no_dots_no_minus\n",
    "is_real_num = num_str_no_dots_no_minus.isdigit() and dot_count >= 0 and dot_count < 2\n",
    "\n",
    "print(f\"{num_str} -> {is_real_num}\")"
   ]
  }
 ],
 "metadata": {
  "kernelspec": {
   "display_name": ".venv (3.11.12)",
   "language": "python",
   "name": "python3"
  },
  "language_info": {
   "name": "python",
   "version": "3.11.12"
  }
 },
 "nbformat": 4,
 "nbformat_minor": 5
}
