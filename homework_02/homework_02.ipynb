{
 "cells": [
  {
   "cell_type": "markdown",
   "id": "a2c501e6",
   "metadata": {},
   "source": [
    "# Домашнее задание: Управляющие конструкции"
   ]
  },
  {
   "cell_type": "markdown",
   "id": "3e4cac4a",
   "metadata": {},
   "source": [
    "## Задание 1: Получение однозначного числа\n",
    "\n",
    "Пользователь вводит целое число, программа складывает все цифры числа, с полученным числом — то же самое, и так до тех пор, пока не получится однозначное число.\n",
    "\n",
    "<br>\n",
    "\n",
    "**Примеры:**\n",
    "* `545   -> 5`\n",
    "* `12345 -> 6`"
   ]
  },
  {
   "cell_type": "code",
   "execution_count": 21,
   "id": "344e919f",
   "metadata": {},
   "outputs": [
    {
     "name": "stdin",
     "output_type": "stream",
     "text": [
      "Введите положительное целое число:  67865865\n"
     ]
    },
    {
     "name": "stdout",
     "output_type": "stream",
     "text": [
      "Вы ввели корректное число: 67865865\n",
      "67865865 -> 6\n"
     ]
    }
   ],
   "source": [
    "def get_number_user_input(message):\n",
    "    \n",
    "    while True:\n",
    "        user_input = input(message).strip()\n",
    "        \n",
    "        if user_input.isdigit() and not (user_input.startswith('0') and user_input != '0'):\n",
    "            number = int(user_input)\n",
    "            if number > 0:\n",
    "                print(f\"Вы ввели корректное число: {number}\")\n",
    "                break\n",
    "            else:\n",
    "                print(\"Ошибка: число должно быть положительным.\")\n",
    "        else:\n",
    "            print(\"Ошибка: введите корректное положительное целое число без ведущих нулей.\")\n",
    "        \n",
    "    return user_input\n",
    "\n",
    "user_input = get_number_user_input(\"Введите положительное целое число: \")\n",
    "number_str = user_input\n",
    "\n",
    "while len(number_str) > 1:\n",
    "    number = 0\n",
    "    for i in number_str:\n",
    "        number += int(i)\n",
    "    number_str = str(number)\n",
    "else:\n",
    "    print(f\"{user_input} -> {number_str}\")"
   ]
  },
  {
   "cell_type": "markdown",
   "id": "45527a4a",
   "metadata": {},
   "source": [
    "## Задание 2: Кинотеатр\n",
    "\n",
    "Дан список списков, каждый вложенный список состоит из 1 и 0, количество вложенных списков — количество рядов. Пользователь вводит, сколько билетов ему требуется. Программа должна найти ряд, где можно приобрести нужное количество билетов (места должны быть рядом). Если таких рядов несколько, то ближайший к экрану (ближайшим считается нулевой ряд). Если таких мест нет, то вывести False.\n",
    "\n",
    "<br>\n",
    "\n",
    "**Примеры:**\n",
    "* `[[0,1,1,0], [1,0,0,0], [0,1,0,0]], 2 -> 1`\n",
    "* `[[0,1,1,0], [1,0,1,0], [1,1,0,1]], 2 -> False`"
   ]
  },
  {
   "cell_type": "code",
   "execution_count": 24,
   "id": "3a29082d",
   "metadata": {},
   "outputs": [
    {
     "name": "stdin",
     "output_type": "stream",
     "text": [
      "Введите количество билетов:  2\n"
     ]
    },
    {
     "name": "stdout",
     "output_type": "stream",
     "text": [
      "Вы ввели корректное число: 2\n",
      "[[0, 1, 1, 0], [1, 0, 0, 0], [0, 1, 0, 0]], 2 -> 1\n"
     ]
    }
   ],
   "source": [
    "cinema_rows = [[0,1,1,0], [1,0,0,0], [0,1,0,0]]\n",
    "# cinema_rows = [[0,1,1,0], [1,0,1,0], [1,1,0,1]]\n",
    "\n",
    "def get_number_user_input(message):\n",
    "    \n",
    "    while True:\n",
    "        user_input = input(message).strip()\n",
    "    \n",
    "        if user_input.isdigit() and not (user_input.startswith('0') and user_input != '0'):\n",
    "            number = int(user_input)\n",
    "            if number > 0:\n",
    "                print(f\"Вы ввели корректное число: {number}\")\n",
    "                break\n",
    "            else:\n",
    "                print(\"Ошибка: число должно быть положительным.\")\n",
    "        else:\n",
    "            print(\"Ошибка: введите корректное положительное целое число без ведущих нулей.\")\n",
    "        \n",
    "    return user_input\n",
    "\n",
    "num_str = get_number_user_input(\"Введите количество билетов: \")\n",
    "\n",
    "tickets_count = int(num_str)\n",
    "has_tickets = False\n",
    "row_index = 0\n",
    "\n",
    "for cells in cinema_rows:    \n",
    "    \n",
    "    near_ticket_count = 0\n",
    "    \n",
    "    for cell in cells:    \n",
    "        \n",
    "        if cell == 0:\n",
    "            near_ticket_count += 1\n",
    "        else:\n",
    "            near_ticket_count = 0\n",
    "\n",
    "        if near_ticket_count == tickets_count:\n",
    "            has_tickets = True\n",
    "            break\n",
    "\n",
    "    if has_tickets:\n",
    "        break\n",
    "        \n",
    "    row_index += 1\n",
    "\n",
    "print(f\"{cinema_rows}, {tickets_count} -> {row_index if has_tickets else has_tickets}\")"
   ]
  },
  {
   "cell_type": "markdown",
   "id": "7b7f098c",
   "metadata": {},
   "source": [
    "## Задание 3: Алгоритм RLE\n",
    "\n",
    "Необходимо написать упрощенную версию алгоритма RLE. \n",
    "Алгоритм RLE объединяет подряд идущие символы в коэффициент и символ.\n",
    "\n",
    "<br>\n",
    "\n",
    "**Примеры:**\n",
    "* `asssdddsssddd -> 1a3s3d3s3d`\n",
    "* `aaabbbbccccc  -> 3a4b5c`\n",
    "* `abcba         -> 1a1b1c1b1a`"
   ]
  },
  {
   "cell_type": "code",
   "execution_count": 27,
   "id": "e0d30ec2",
   "metadata": {},
   "outputs": [
    {
     "name": "stdin",
     "output_type": "stream",
     "text": [
      "Введите последовательность символов:  авпааарррввыы\n"
     ]
    },
    {
     "name": "stdout",
     "output_type": "stream",
     "text": [
      "авпааарррввыы - > 1а1в1п3а3р2в2ы\n"
     ]
    }
   ],
   "source": [
    "def get_rle(input_str):\n",
    "\n",
    "    str_length = len(input_str)\n",
    "    char_previous = None\n",
    "    char_current = None\n",
    "    rle_value = \"\"\n",
    "    char_count = 0\n",
    "    \n",
    "    for char_index in range(str_length):\n",
    "        \n",
    "        char_current = input_str[char_index]\n",
    "\n",
    "        # проверяем если первый символ, то предыдущий такой-эе как и первый\n",
    "        if char_index == 0:\n",
    "            char_previous = input_str[char_index]\n",
    "\n",
    "        # если предыдущий и текущий символ одинаковый, то добавляем счетчик\n",
    "        if char_current == char_previous:\n",
    "            char_count += 1\n",
    "        # иначе добавляем в строку rle количество и символ, сбрасываем счетчик на 1\n",
    "        # предыдущий символ устанавливаем текущим\n",
    "        else:\n",
    "            rle_value += f\"{char_count}{char_previous}\"\n",
    "            char_previous = char_current\n",
    "            char_count = 1\n",
    "\n",
    "        # проверяем если последний символ, то добавляем в строку rle \n",
    "        if char_index == str_length - 1:\n",
    "            rle_value += f\"{char_count}{char_current}\"\n",
    "            \n",
    "\n",
    "    return rle_value\n",
    "\n",
    "input_str = input(\"Введите последовательность символов: \").strip()\n",
    "print(f\"{input_str} - > {get_rle(input_str)}\") "
   ]
  },
  {
   "cell_type": "markdown",
   "id": "f24d5e58",
   "metadata": {},
   "source": [
    "## Задание 4: Шифр Цезаря\n",
    "\n",
    "Реализуйте программу для шифрования текста с помощью шифра Цезаря.  \n",
    "Шифр Цезаря — это метод шифрования, при котором каждая буква в тексте заменяется буквой, стоящей на фиксированное число позиций дальше в алфавите.\n",
    "\n",
    "### Требования\n",
    "1. Программа должна принимать на вход:\n",
    "   - Строку текста для шифрования\n",
    "   - Ключ шифра (число от 0 до 25)\n",
    "\n",
    "2. Правила шифрования:\n",
    "   - Шифруются только латинские буквы (a-z, A-Z)\n",
    "   - Сохраняется регистр букв (заглавные остаются заглавными)\n",
    "   - Пробелы, цифры и знаки препинания остаются без изменений\n",
    "   - Сдвиг циклический (после 'z' идет 'a', после 'Z' идет 'A')\n",
    "\n",
    "### Примеры\n",
    "\n",
    "* `\"Hello World\", 3      -> \"Khoor Zruog\"`\n",
    "* `\"Python is great!\", 5 -> \"Udymts nx lwjfy!\"`\n",
    "* `\"XYZ abc\", 3          -> \"ABC def\"`\n",
    "* `\"Test 123\", 1         -> \"Uftu 123\"`\n",
    "\n",
    "### Алгоритм\n",
    "* Для каждого символа в строке:\n",
    "   - Если это латинская буква, найти её позицию в алфавите\n",
    "   - Добавить к позиции значение ключа\n",
    "   - Если результат больше 25, использовать остаток от деления на 26\n",
    "   - Преобразовать обратно в букву, сохранив регистр\n",
    "   - Если это не буква, оставить символ без изменений\n"
   ]
  },
  {
   "cell_type": "code",
   "execution_count": 26,
   "id": "6a075d20",
   "metadata": {},
   "outputs": [
    {
     "name": "stdin",
     "output_type": "stream",
     "text": [
      "Введите текст для шифрования:  Python is great!\n",
      "Введите ключ шифрования(целове положительное число):  gdh\n"
     ]
    },
    {
     "name": "stdout",
     "output_type": "stream",
     "text": [
      "Ошибка: введите корректное положительное целое число без ведущих нулей.\n"
     ]
    },
    {
     "name": "stdin",
     "output_type": "stream",
     "text": [
      "Введите ключ шифрования(целове положительное число):  5\n"
     ]
    },
    {
     "name": "stdout",
     "output_type": "stream",
     "text": [
      "Вы ввели корректное число: 5\n",
      "Python is great! -> Udymts nx lwjfy!\n"
     ]
    }
   ],
   "source": [
    "def get_number_user_input(message):\n",
    "    \n",
    "    while True:\n",
    "        user_input = input(message).strip()\n",
    "    \n",
    "        if user_input.isdigit() and not (user_input.startswith('0') and user_input != '0'):\n",
    "            number = int(user_input)\n",
    "            if number > 0:\n",
    "                print(f\"Вы ввели корректное число: {number}\")\n",
    "                break\n",
    "            else:\n",
    "                print(\"Ошибка: число должно быть положительным.\")\n",
    "        else:\n",
    "            print(\"Ошибка: введите корректное положительное целое число без ведущих нулей.\")\n",
    "        \n",
    "    return user_input\n",
    "    \n",
    "def get_caesar_cipher_text(text : str\n",
    "                           , alphabet_length : int\n",
    "                           , lettr_first_upper : str\n",
    "                           , letter_first_lower : str\n",
    "                           , cipher_key : int\n",
    "                          ):\n",
    "    \n",
    "    text_length = len(text)\n",
    "    text_new = \"\"\n",
    "    \n",
    "    for char_index in range(text_length):\n",
    "\n",
    "        char_current = text[char_index]\n",
    "        letter_first_alph_indx = ord( lettr_first_upper if char_current.isupper() else letter_first_lower) \n",
    "        char_indx_in_alph = ord(char_current)\n",
    "        is_latin_letter = abs(char_indx_in_alph - letter_first_alph_indx) <= alphabet_length - 1\n",
    "\n",
    "        if is_latin_letter:\n",
    "\n",
    "            letter_new_num = char_indx_in_alph + cipher_key\n",
    "            letter_new_num = letter_first_alph_indx + (letter_new_num - letter_first_alph_indx) % alphabet_length;\n",
    "            char_current = chr(letter_new_num)\n",
    "           \n",
    "        text_new += char_current\n",
    "\n",
    "    return text_new\n",
    "\n",
    "\n",
    "alphabet_length = 26\n",
    "input_str = input(\"Введите текст для шифрования: \").strip()\n",
    "num_str = get_number_user_input(\"Введите ключ шифрования(целове положительное число): \")\n",
    "num = int(num_str)\n",
    "cipher_key = num % alphabet_length if num > alphabet_length else num\n",
    "\n",
    "print(f\"{input_str} -> {get_caesar_cipher_text(input_str, alphabet_length, \"A\", \"a\", num)}\")"
   ]
  },
  {
   "cell_type": "markdown",
   "id": "c88bf52c",
   "metadata": {},
   "source": [
    "## Задание 5: Табель успеваемости\n",
    "\n",
    "Пользователь в бесконечном цикле (пока не будет введена пустая строка) вводит строки вида: 'название предмета' 'фамилия ученика' 'оценка'. После окончания ввода программа выводит в консоль название предмета, далее список учеников и все их оценки в виде таблицы.\n",
    "\n",
    "<br>\n",
    "\n",
    "**Примеры:**\n",
    "\n",
    "<br>\n",
    "\n",
    "*Ввод:*\n",
    "```python\n",
    "Математика Иванов  5\n",
    "Математика Иванов  4\n",
    "Литература Иванов  3\n",
    "Математика Петров  5\n",
    "Литература Сидоров 3\n",
    "Литература Петров  5\n",
    "Литература Иванов  4\n",
    "Математика Сидоров 3\n",
    "Математика Петров  5\n",
    "```\n",
    "\n",
    "<br>\n",
    "\n",
    "*Результат:*\n",
    "```python\n",
    "Математика # вводим название предмета\n",
    "\n",
    "# выводим список учеников и их оценки\n",
    "Иванов  5 4\n",
    "Петров  5 5\n",
    "Сидоров 3\n",
    "```\n",
    "\n",
    "```python\n",
    "Литература # вводим название предмета\n",
    "\n",
    "# выводим список учеников и их оценки\n",
    "Иванов  3 4\n",
    "Сидоров 3\n",
    "Петров  5\n",
    "```"
   ]
  },
  {
   "cell_type": "code",
   "execution_count": 32,
   "id": "196f6ff4",
   "metadata": {},
   "outputs": [
    {
     "name": "stdout",
     "output_type": "stream",
     "text": [
      "Введите данные по одной записи на строку в формате: 'название предмета' 'фамилия ученика' 'оценка'\n",
      "Для окончания ввода оставьте строку пустой.\n"
     ]
    },
    {
     "name": "stdin",
     "output_type": "stream",
     "text": [
      " Математика Иванов  5\n",
      " Математика Иванов  4\n",
      " Литература Иванов  3 Математика Петров  5 Литература Сидоров 3 Литература Петров  5 Литература Иванов  4 Математика Сидоров 3 Математика Петров  5\n"
     ]
    },
    {
     "name": "stdout",
     "output_type": "stream",
     "text": [
      "Ошибка: введите даные в требуемом формате. Формат: предмет фамилия оценка\n"
     ]
    },
    {
     "name": "stdin",
     "output_type": "stream",
     "text": [
      " Литература Иванов  3\n",
      " Математика Петров  5\n",
      " Литература Сидоров 3\n",
      " Литература Петров  5\n",
      " Литература Иванов  4\n",
      " Математика Сидоров 3\n",
      " Математика Петров  5\n",
      " \n"
     ]
    },
    {
     "name": "stdout",
     "output_type": "stream",
     "text": [
      "\n",
      "Таблица на основе введённых данных:\n",
      "\n",
      "Предмет: Математика\n",
      "Фамилия              Оценки              \n",
      "----------------------------------------\n",
      "Иванов               5, 4                \n",
      "Петров               5, 5                \n",
      "Сидоров              3                   \n",
      "\n",
      "Предмет: Литература\n",
      "Фамилия              Оценки              \n",
      "----------------------------------------\n",
      "Иванов               3, 4                \n",
      "Сидоров              3                   \n",
      "Петров               5                   \n"
     ]
    }
   ],
   "source": [
    "# Тестовый массив данных (можно оставить пустым [])\n",
    "test_data = [\n",
    "    # [\"Математика\", \"Иванов\", \"5\"],\n",
    "    # [\"Математика\", \"Иванов\", \"4\"],\n",
    "    # [\"Литература\", \"Иванов\", \"3\"],\n",
    "    # [\"Математика\", \"Петров\", \"5\"],\n",
    "    # [\"Литература\", \"Сидоров\", \"3\"],\n",
    "    # [\"Литература\", \"Петров\", \"5\"],\n",
    "    # [\"Литература\", \"Иванов\", \"4\"],\n",
    "    # [\"Математика\", \"Сидоров\", \"3\"],\n",
    "    # [\"Математика\", \"Петров\", \"5\"]\n",
    "]\n",
    "\n",
    "# словарь оценок\n",
    "grades = {}\n",
    "\n",
    "def process_entry(subject, student, grade_str):\n",
    "    if not (grade_str.isdigit() and not (grade_str.startswith('0') and grade_str != '0') and int(grade_str) > 0):\n",
    "        print(f\"Ошибка: оценка должна быть положительным целым числом без ведущих нулей. Пропущено: {subject} {student} {grade_str}\")\n",
    "        return\n",
    "    grade = int(grade_str)\n",
    "    if subject not in grades:\n",
    "        grades[subject] = {}\n",
    "    if student not in grades[subject]:\n",
    "        grades[subject][student] = []\n",
    "    grades[subject][student].append(grade)\n",
    "\n",
    "def print_table():\n",
    "    print(\"\\nТаблица на основе введённых данных:\")\n",
    "    for subject in grades:\n",
    "        print(f\"\\nПредмет: {subject}\")\n",
    "        print(f\"{'Фамилия':<20} {'Оценки':<20}\")\n",
    "        print(\"-\" * 40)\n",
    "        for student in grades[subject]:\n",
    "            print(f\"{student:<20} {', '.join(map(str, grades[subject][student])):<20}\")\n",
    "\n",
    "# Если есть тестовые данные — сразу обрабатываем их\n",
    "if test_data:\n",
    "    for entry in test_data:\n",
    "        process_entry(*entry)\n",
    "    print(\"Таблица на основе тестовых данных:\")\n",
    "    print_table()\n",
    "else:\n",
    "    print(\"Введите данные по одной записи на строку в формате: 'название предмета' 'фамилия ученика' 'оценка'\")\n",
    "    print(\"Для окончания ввода оставьте строку пустой.\")\n",
    "    while True:\n",
    "        line = input().strip()\n",
    "        if not line:\n",
    "            break\n",
    "        parts = line.split()\n",
    "        if len(parts) != 3:\n",
    "            print(\"Ошибка: введите даные в требуемом формате. Формат: предмет фамилия оценка\")\n",
    "            continue\n",
    "        subject = parts[0]\n",
    "        grade_str = parts[-1]\n",
    "        student = \" \".join(parts[1:-1])\n",
    "        process_entry(subject, student, grade_str)\n",
    "        \n",
    "    if len(grades) > 0:\n",
    "        print_table()"
   ]
  },
  {
   "cell_type": "code",
   "execution_count": null,
   "id": "1ed38913-aba1-4157-bbd5-de5080ce82ec",
   "metadata": {},
   "outputs": [],
   "source": []
  }
 ],
 "metadata": {
  "kernelspec": {
   "display_name": "Python 3 (ipykernel)",
   "language": "python",
   "name": "python3"
  },
  "language_info": {
   "codemirror_mode": {
    "name": "ipython",
    "version": 3
   },
   "file_extension": ".py",
   "mimetype": "text/x-python",
   "name": "python",
   "nbconvert_exporter": "python",
   "pygments_lexer": "ipython3",
   "version": "3.12.7"
  }
 },
 "nbformat": 4,
 "nbformat_minor": 5
}
