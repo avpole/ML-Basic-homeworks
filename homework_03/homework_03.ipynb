{
  "cells": [
    {
      "cell_type": "markdown",
      "id": "e2450ffa",
      "metadata": {
        "id": "e2450ffa"
      },
      "source": [
        "# Домашнее задание: Функции"
      ]
    },
    {
      "cell_type": "markdown",
      "id": "8d062500",
      "metadata": {
        "id": "8d062500"
      },
      "source": [
        "## Задание 1: Конвертер регистров\n",
        "\n",
        "Написать функцию, которая будет переводить snake_case в PascalCase и наоборот.\n",
        "\n",
        "Функция должна сама определять - какой формат ей передали. Можно добавить ключевой аргумент, который будет принудительно возвращать один из форматов.\n",
        "\n",
        "<br>\n",
        "\n",
        "**Примеры:**\n",
        "* `otus_course     -> OtusCourse`\n",
        "* `PythonIsTheBest -> python_is_the_best`\n",
        "\n"
      ]
    },
    {
      "cell_type": "code",
      "execution_count": 23,
      "id": "ec0075f5",
      "metadata": {
        "colab": {
          "base_uri": "https://localhost:8080/",
          "height": 391
        },
        "id": "ec0075f5",
        "outputId": "2d1935d3-bf3e-47bd-95ed-f0942da810c7"
      },
      "outputs": [
        {
          "output_type": "stream",
          "name": "stdout",
          "text": [
            "otus_course -> OtusCourse\n",
            "PythonIsTheBest -> python_is_the_best\n",
            "MySuperSnakeVar -> my_super_snake_var\n",
            "my_super_pascal_var -> MySuperPascalVar\n"
          ]
        },
        {
          "output_type": "error",
          "ename": "ValueError",
          "evalue": "Строка 'my_super_pascal_ var' не является snake_case",
          "traceback": [
            "\u001b[0;31m---------------------------------------------------------------------------\u001b[0m",
            "\u001b[0;31mValueError\u001b[0m                                Traceback (most recent call last)",
            "\u001b[0;32m/tmp/ipython-input-3344653187.py\u001b[0m in \u001b[0;36m<cell line: 0>\u001b[0;34m()\u001b[0m\n\u001b[1;32m     58\u001b[0m \u001b[0mresult\u001b[0m \u001b[0;34m=\u001b[0m \u001b[0mget_text_in_notation_style\u001b[0m\u001b[0;34m(\u001b[0m\u001b[0;34m\"my_super_pascal_var\"\u001b[0m\u001b[0;34m,\u001b[0m \u001b[0;34m\"pascal\"\u001b[0m\u001b[0;34m)\u001b[0m\u001b[0;34m\u001b[0m\u001b[0;34m\u001b[0m\u001b[0m\n\u001b[1;32m     59\u001b[0m \u001b[0;34m\u001b[0m\u001b[0m\n\u001b[0;32m---> 60\u001b[0;31m \u001b[0mresult\u001b[0m \u001b[0;34m=\u001b[0m \u001b[0mget_text_in_notation_style\u001b[0m\u001b[0;34m(\u001b[0m\u001b[0;34m\"my_super_pascal_ var\"\u001b[0m\u001b[0;34m,\u001b[0m \u001b[0;34m\"pascal\"\u001b[0m\u001b[0;34m)\u001b[0m\u001b[0;34m\u001b[0m\u001b[0;34m\u001b[0m\u001b[0m\n\u001b[0m",
            "\u001b[0;32m/tmp/ipython-input-3344653187.py\u001b[0m in \u001b[0;36mwrapper\u001b[0;34m(*args, **kwargs)\u001b[0m\n\u001b[1;32m     10\u001b[0m     \u001b[0;32mdef\u001b[0m \u001b[0mdecorator\u001b[0m\u001b[0;34m(\u001b[0m\u001b[0mfunc\u001b[0m\u001b[0;34m)\u001b[0m\u001b[0;34m:\u001b[0m\u001b[0;34m\u001b[0m\u001b[0;34m\u001b[0m\u001b[0m\n\u001b[1;32m     11\u001b[0m         \u001b[0;32mdef\u001b[0m \u001b[0mwrapper\u001b[0m\u001b[0;34m(\u001b[0m\u001b[0;34m*\u001b[0m\u001b[0margs\u001b[0m\u001b[0;34m,\u001b[0m \u001b[0;34m**\u001b[0m\u001b[0mkwargs\u001b[0m\u001b[0;34m)\u001b[0m\u001b[0;34m:\u001b[0m\u001b[0;34m\u001b[0m\u001b[0;34m\u001b[0m\u001b[0m\n\u001b[0;32m---> 12\u001b[0;31m             \u001b[0mresult\u001b[0m \u001b[0;34m=\u001b[0m \u001b[0mfunc\u001b[0m\u001b[0;34m(\u001b[0m\u001b[0;34m*\u001b[0m\u001b[0margs\u001b[0m\u001b[0;34m,\u001b[0m \u001b[0;34m**\u001b[0m\u001b[0mkwargs\u001b[0m\u001b[0;34m)\u001b[0m\u001b[0;34m\u001b[0m\u001b[0;34m\u001b[0m\u001b[0m\n\u001b[0m\u001b[1;32m     13\u001b[0m             \u001b[0mprint\u001b[0m\u001b[0;34m(\u001b[0m\u001b[0;34mf\"{args[0]} -> {result}\"\u001b[0m\u001b[0;34m)\u001b[0m\u001b[0;34m\u001b[0m\u001b[0;34m\u001b[0m\u001b[0m\n\u001b[1;32m     14\u001b[0m             \u001b[0;32mreturn\u001b[0m \u001b[0;32mNone\u001b[0m \u001b[0;32mif\u001b[0m \u001b[0mprint_only\u001b[0m \u001b[0;32melse\u001b[0m \u001b[0mresult\u001b[0m\u001b[0;34m\u001b[0m\u001b[0;34m\u001b[0m\u001b[0m\n",
            "\u001b[0;32m/tmp/ipython-input-3344653187.py\u001b[0m in \u001b[0;36mget_text_in_notation_style\u001b[0;34m(text, notation_style)\u001b[0m\n\u001b[1;32m     46\u001b[0m   \u001b[0;32melif\u001b[0m \u001b[0mnotation_style\u001b[0m \u001b[0;34m==\u001b[0m \u001b[0;34m\"pascal\"\u001b[0m\u001b[0;34m:\u001b[0m\u001b[0;34m\u001b[0m\u001b[0;34m\u001b[0m\u001b[0m\n\u001b[1;32m     47\u001b[0m       \u001b[0;32mif\u001b[0m \u001b[0;32mnot\u001b[0m \u001b[0msnake_pattern\u001b[0m\u001b[0;34m.\u001b[0m\u001b[0mmatch\u001b[0m\u001b[0;34m(\u001b[0m\u001b[0mtext\u001b[0m\u001b[0;34m)\u001b[0m\u001b[0;34m:\u001b[0m\u001b[0;34m\u001b[0m\u001b[0;34m\u001b[0m\u001b[0m\n\u001b[0;32m---> 48\u001b[0;31m           \u001b[0;32mraise\u001b[0m \u001b[0mValueError\u001b[0m\u001b[0;34m(\u001b[0m\u001b[0;34mf\"Строка '{text}' не является snake_case\"\u001b[0m\u001b[0;34m)\u001b[0m\u001b[0;34m\u001b[0m\u001b[0;34m\u001b[0m\u001b[0m\n\u001b[0m\u001b[1;32m     49\u001b[0m       \u001b[0;32mreturn\u001b[0m \u001b[0mto_pascal\u001b[0m\u001b[0;34m(\u001b[0m\u001b[0mtext\u001b[0m\u001b[0;34m)\u001b[0m\u001b[0;34m\u001b[0m\u001b[0;34m\u001b[0m\u001b[0m\n\u001b[1;32m     50\u001b[0m \u001b[0;34m\u001b[0m\u001b[0m\n",
            "\u001b[0;31mValueError\u001b[0m: Строка 'my_super_pascal_ var' не является snake_case"
          ]
        }
      ],
      "source": [
        "import re\n",
        "\n",
        "# Паттерн для проверки snake_case\n",
        "snake_pattern = re.compile(r'^[a-z]+(_[a-z0-9]+)*$')\n",
        "# Паттерн для проверки PascalCase\n",
        "pascal_pattern = re.compile(r'^[A-Z][a-z0-9]*(?:[A-Z][a-z0-9]*)*$')\n",
        "\n",
        "def print_result(print_only: bool = False):\n",
        "    \"\"\"Декоратор для автоматического вывода результата функции через print\"\"\"\n",
        "    def decorator(func):\n",
        "        def wrapper(*args, **kwargs):\n",
        "            result = func(*args, **kwargs)\n",
        "            print(f\"{args[0]} -> {result}\")\n",
        "            return None if print_only else result\n",
        "        return wrapper\n",
        "    return decorator\n",
        "\n",
        "@print_result()\n",
        "def get_text_in_notation_style(text : str, notation_style : str = None) -> str:\n",
        "\n",
        "  def to_snake(text: str) -> str:\n",
        "    result = []\n",
        "    for i, ch in enumerate(text):\n",
        "        if ch.isupper() and i > 0:\n",
        "            result.append(\"_\")\n",
        "        result.append(ch.lower())\n",
        "    return \"\".join(result)\n",
        "\n",
        "  def to_pascal(text: str) -> str:\n",
        "    return \"\".join(word.capitalize() for word in text.split(\"_\"))\n",
        "\n",
        "  if notation_style is None:\n",
        "     # Авто-определение через regex\n",
        "    if snake_pattern.match(text):\n",
        "        notation_style = \"pascal\"\n",
        "    elif pascal_pattern.match(text):\n",
        "        notation_style = \"snake\"\n",
        "    else:\n",
        "        raise ValueError(f\"Строка '{text}' не соответствует snake_case или PascalCase\")\n",
        "\n",
        "  if notation_style == \"snake\":\n",
        "        if not pascal_pattern.match(text):\n",
        "            raise ValueError(f\"Строка '{text}' не является PascalCase\")\n",
        "        return to_snake(text)\n",
        "\n",
        "  elif notation_style == \"pascal\":\n",
        "      if not snake_pattern.match(text):\n",
        "          raise ValueError(f\"Строка '{text}' не является snake_case\")\n",
        "      return to_pascal(text)\n",
        "\n",
        "  else:\n",
        "    raise ValueError(f\"Недопустимый параметр notation_style='{notation_style}'\")\n",
        "\n",
        "# Примеры:\n",
        "get_text_in_notation_style(\"otus_course\")\n",
        "get_text_in_notation_style(\"PythonIsTheBest\")\n",
        "get_text_in_notation_style(\"MySuperSnakeVar\", \"snake\")\n",
        "result = get_text_in_notation_style(\"my_super_pascal_var\", \"pascal\")\n",
        "\n",
        "result = get_text_in_notation_style(\"my_super_pascal_ var\", \"pascal\")"
      ]
    },
    {
      "cell_type": "markdown",
      "id": "b8253fb9",
      "metadata": {
        "id": "b8253fb9"
      },
      "source": [
        "## Задание 2: Проверка валидности даты\n",
        "\n",
        "Написать функцию проверяющую валидность введенной даты.\n",
        "\n",
        "<br>\n",
        "\n",
        "**Примеры:**\n",
        "* `29.02.2000 -> True`\n",
        "* `29.02.2001 -> False`\n",
        "* `31.04.1962 -> False`\n",
        "\n"
      ]
    },
    {
      "cell_type": "code",
      "execution_count": 20,
      "id": "e7f4e9c8",
      "metadata": {
        "id": "e7f4e9c8",
        "outputId": "0946c57b-e1b2-4ea1-ca11-c4a0eb528202",
        "colab": {
          "base_uri": "https://localhost:8080/"
        }
      },
      "outputs": [
        {
          "output_type": "stream",
          "name": "stdout",
          "text": [
            "29.02.2000 -> True\n",
            "29.02.2001 -> False\n",
            "31.04.1962 -> False\n",
            "15.08.2025 -> True\n",
            " 15.08.2025  -> True\n",
            " -> False\n",
            "15-08-2025 -> False\n",
            "1.8.2025 -> False\n",
            "01.8.2025 -> False\n"
          ]
        }
      ],
      "source": [
        "import re\n",
        "\n",
        "def print_result(print_only: bool = False):\n",
        "    \"\"\"Декоратор для автоматического вывода результата функции через print\"\"\"\n",
        "    def decorator(func):\n",
        "        def wrapper(*args, **kwargs):\n",
        "            result = func(*args, **kwargs)\n",
        "            print(f\"{args[0]} -> {result}\")\n",
        "            return None if print_only else result\n",
        "        return wrapper\n",
        "    return decorator\n",
        "\n",
        "def is_leap_year(year: int) -> bool:\n",
        "    \"\"\"Проверка високосного года.\"\"\"\n",
        "    return (year % 4 == 0 and year % 100 != 0) or (year % 400 == 0)\n",
        "\n",
        "@print_result()\n",
        "def is_valid_date(date_str: str) -> bool:\n",
        "    \"\"\"Проверка валидности даты в строгом формате ДД.ММ.ГГГГ.\"\"\"\n",
        "    if not date_str or not date_str.strip():\n",
        "        return False\n",
        "\n",
        "    date_str = date_str.strip()\n",
        "\n",
        "    # Строгая проверка формата ДД.ММ.ГГГГ\n",
        "    if not re.fullmatch(r\"\\d{2}\\.\\d{2}\\.\\d{4}\", date_str):\n",
        "        return False\n",
        "\n",
        "    day, month, year = map(int, date_str.split(\".\"))\n",
        "\n",
        "    if year < 1 or month < 1 or month > 12 or day < 1:\n",
        "        return False\n",
        "\n",
        "    days_in_month = [31, 29 if is_leap_year(year) else 28, 31, 30,\n",
        "                     31, 30, 31, 31, 30, 31, 30, 31]\n",
        "\n",
        "    return day <= days_in_month[month - 1]\n",
        "\n",
        "\n",
        "# Примеры:\n",
        "tests = [\n",
        "    \"29.02.2000\",   # високосный\n",
        "    \"29.02.2001\",   # невисокосный\n",
        "    \"31.04.1962\",   # в апреле 30 дней\n",
        "    \"15.08.2025\",   # валидная дата\n",
        "    \" 15.08.2025 \", # пробелы\n",
        "    \"\",             # пустая строка\n",
        "    \"15-08-2025\",   # не тот разделитель\n",
        "    \"1.8.2025\",      # не хватает ведущих нулей в дне и месяцу\n",
        "    \"01.8.2025\"      # не хватает ведущих нулей в месяце\n",
        "]\n",
        "\n",
        "for t in tests:\n",
        "    result =is_valid_date(t)"
      ]
    },
    {
      "cell_type": "markdown",
      "id": "2d77053e",
      "metadata": {
        "id": "2d77053e"
      },
      "source": [
        "## Задание 3: Проверка на простое число\n",
        "\n",
        "Функция проверки на простое число. Простые числа – это такие числа, которые делятся на себя и на единицу.\n",
        "\n",
        "<br>\n",
        "\n",
        "**Примеры:**\n",
        "* `17 -> True`\n",
        "* `20 -> False`\n",
        "* `23 -> True`"
      ]
    },
    {
      "cell_type": "code",
      "execution_count": 21,
      "id": "c20728f6",
      "metadata": {
        "id": "c20728f6",
        "outputId": "f2679c9c-c61e-43bf-b588-e514c13da2e6",
        "colab": {
          "base_uri": "https://localhost:8080/"
        }
      },
      "outputs": [
        {
          "output_type": "stream",
          "name": "stdout",
          "text": [
            "17 -> True\n",
            "20 -> False\n",
            "23 -> True\n",
            "1 -> False\n",
            "2 -> True\n",
            "3 -> True\n",
            "4 -> False\n",
            "5 -> True\n",
            "6 -> False\n",
            "7 -> True\n",
            "29 -> True\n",
            "97 -> True\n",
            "100 -> False\n"
          ]
        }
      ],
      "source": [
        "def print_result(print_only: bool = False):\n",
        "    \"\"\"Декоратор для автоматического вывода результата функции через print\"\"\"\n",
        "    def decorator(func):\n",
        "        def wrapper(*args, **kwargs):\n",
        "            result = func(*args, **kwargs)\n",
        "            print(f\"{args[0]} -> {result}\")\n",
        "            return None if print_only else result\n",
        "        return wrapper\n",
        "    return decorator\n",
        "\n",
        "@print_result()\n",
        "def is_prime_number(n: int) -> bool:\n",
        "    \"\"\"Проверка, является ли число простым.\"\"\"\n",
        "    if n <= 1:\n",
        "        return False\n",
        "    if n <= 3:\n",
        "        return True\n",
        "    if n % 2 == 0 or n % 3 == 0:\n",
        "        return False\n",
        "\n",
        "    # Проверяем делители до sqrt(n)\n",
        "    i = 5\n",
        "    while i * i <= n:\n",
        "        if n % i == 0 or n % (i + 2) == 0:\n",
        "            return False\n",
        "        i += 6\n",
        "    return True\n",
        "\n",
        "\n",
        "# Примеры:\n",
        "tests = [17, 20, 23, 1, 2, 3, 4, 5, 6, 7, 29, 97, 100]\n",
        "\n",
        "for t in tests:\n",
        "    resullt = is_prime_number(t)"
      ]
    },
    {
      "cell_type": "markdown",
      "id": "29703efe",
      "metadata": {
        "id": "29703efe"
      },
      "source": [
        "## Задание 4: Учет пользователей\n",
        "\n",
        "Пользователь в бесконечном цикле вводит данные пользователей: имя, затем фамилию, возраст и ID. Ввод продолжается до тех пор, пока не будет введено пустое поле.\n",
        "\n",
        "Пользователи заносятся в словарь, где ключ это ID пользователя, а остальные данные записываются в виде кортежа.\n",
        "\n",
        "**Программа должна проверять:**\n",
        "* имя и фамилия состоят только из символов и начинаются с большой буквы - если не с большой, то заменяет букву на большую;\n",
        "* возраст должен быть числом от 18 до 60;\n",
        "* ID - целое число, дополненное до 8 знаков незначащими нулями, ID должен быть уникальным.\n",
        "\n",
        "**Дополнительно:** написать функцию, которая будет выводить полученный словарь в виде таблицы."
      ]
    },
    {
      "cell_type": "code",
      "execution_count": null,
      "id": "54d1f971",
      "metadata": {
        "id": "54d1f971"
      },
      "outputs": [],
      "source": [
        "# ВАШ КОД ЗДЕСЬ"
      ]
    }
  ],
  "metadata": {
    "kernelspec": {
      "display_name": ".venv (3.11.12)",
      "language": "python",
      "name": "python3"
    },
    "language_info": {
      "name": "python",
      "version": "3.11.12"
    },
    "colab": {
      "provenance": []
    }
  },
  "nbformat": 4,
  "nbformat_minor": 5
}