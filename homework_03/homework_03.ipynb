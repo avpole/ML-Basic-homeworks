{
  "cells": [
    {
      "cell_type": "markdown",
      "id": "e2450ffa",
      "metadata": {
        "id": "e2450ffa"
      },
      "source": [
        "# Домашнее задание: Функции"
      ]
    },
    {
      "cell_type": "markdown",
      "id": "8d062500",
      "metadata": {
        "id": "8d062500"
      },
      "source": [
        "## Задание 1: Конвертер регистров\n",
        "\n",
        "Написать функцию, которая будет переводить snake_case в PascalCase и наоборот.\n",
        "\n",
        "Функция должна сама определять - какой формат ей передали. Можно добавить ключевой аргумент, который будет принудительно возвращать один из форматов.\n",
        "\n",
        "<br>\n",
        "\n",
        "**Примеры:**\n",
        "* `otus_course     -> OtusCourse`\n",
        "* `PythonIsTheBest -> python_is_the_best`\n",
        "\n"
      ]
    },
    {
      "cell_type": "code",
      "execution_count": 4,
      "id": "ec0075f5",
      "metadata": {
        "colab": {
          "base_uri": "https://localhost:8080/"
        },
        "id": "ec0075f5",
        "outputId": "676317f6-36b9-400b-f0dc-9c225bf6c34a"
      },
      "outputs": [
        {
          "output_type": "stream",
          "name": "stdout",
          "text": [
            "OtusCourse\n",
            "python_is_the_best\n",
            "my_super_snake_var\n",
            "MySuperPascalVar\n"
          ]
        }
      ],
      "source": [
        "import re\n",
        "\n",
        "# Паттерн для проверки snake_case\n",
        "snake_pattern = re.compile(r'^[a-z]+(_[a-z0-9]+)*$')\n",
        "# Паттерн для проверки PascalCase\n",
        "pascal_pattern = re.compile(r'^[A-Z][a-z0-9]*(?:[A-Z][a-z0-9]*)*$')\n",
        "\n",
        "def get_text_in_notation_style(text : str, notation_style : str = None) -> str:\n",
        "\n",
        "  def to_snake(text: str) -> str:\n",
        "    result = []\n",
        "    for i, ch in enumerate(text):\n",
        "        if ch.isupper() and i > 0:\n",
        "            result.append(\"_\")\n",
        "        result.append(ch.lower())\n",
        "    return \"\".join(result)\n",
        "\n",
        "  def to_pascal(text: str) -> str:\n",
        "    return \"\".join(word.capitalize() for word in text.split(\"_\"))\n",
        "\n",
        "  if notation_style is None:\n",
        "     # Авто-определение через regex\n",
        "    if snake_pattern.match(text):\n",
        "        notation_style = \"pascal\"\n",
        "    elif pascal_pattern.match(text):\n",
        "        notation_style = \"snake\"\n",
        "    else:\n",
        "        raise ValueError(f\"Строка '{text}' не соответствует snake_case или PascalCase\")\n",
        "\n",
        "  if notation_style == \"snake\":\n",
        "    return to_snake(text)\n",
        "  elif notation_style == \"pascal\":\n",
        "    return to_pascal(text)\n",
        "\n",
        "  else:\n",
        "    raise ValueError(f\"Недопустимый параметр notation_style='{notation_style}'\")\n",
        "\n",
        "print(get_text_in_notation_style(\"otus_course\"))\n",
        "print(get_text_in_notation_style(\"PythonIsTheBest\"))\n",
        "print(get_text_in_notation_style(\"MySuperSnakeVar\", \"snake\"))\n",
        "print(get_text_in_notation_style(\"my_super_pascal_var\", \"pascal\"))"
      ]
    },
    {
      "cell_type": "markdown",
      "id": "b8253fb9",
      "metadata": {
        "id": "b8253fb9"
      },
      "source": [
        "## Задание 2: Проверка валидности даты\n",
        "\n",
        "Написать функцию проверяющую валидность введенной даты.\n",
        "\n",
        "<br>\n",
        "\n",
        "**Примеры:**\n",
        "* `29.02.2000 -> True`\n",
        "* `29.02.2001 -> False`\n",
        "* `31.04.1962 -> False`\n",
        "\n"
      ]
    },
    {
      "cell_type": "code",
      "execution_count": null,
      "id": "e7f4e9c8",
      "metadata": {
        "id": "e7f4e9c8"
      },
      "outputs": [],
      "source": [
        "# ВАШ КОД ЗДЕСЬ"
      ]
    },
    {
      "cell_type": "markdown",
      "id": "2d77053e",
      "metadata": {
        "id": "2d77053e"
      },
      "source": [
        "## Задание 3: Проверка на простое число\n",
        "\n",
        "Функция проверки на простое число. Простые числа – это такие числа, которые делятся на себя и на единицу.\n",
        "\n",
        "<br>\n",
        "\n",
        "**Примеры:**\n",
        "* `17 -> True`\n",
        "* `20 -> False`\n",
        "* `23 -> True`"
      ]
    },
    {
      "cell_type": "code",
      "execution_count": null,
      "id": "c20728f6",
      "metadata": {
        "id": "c20728f6"
      },
      "outputs": [],
      "source": [
        "# ВАШ КОД ЗДЕСЬ"
      ]
    },
    {
      "cell_type": "markdown",
      "id": "29703efe",
      "metadata": {
        "id": "29703efe"
      },
      "source": [
        "## Задание 4: Учет пользователей\n",
        "\n",
        "Пользователь в бесконечном цикле вводит данные пользователей: имя, затем фамилию, возраст и ID. Ввод продолжается до тех пор, пока не будет введено пустое поле.\n",
        "\n",
        "Пользователи заносятся в словарь, где ключ это ID пользователя, а остальные данные записываются в виде кортежа.\n",
        "\n",
        "**Программа должна проверять:**\n",
        "* имя и фамилия состоят только из символов и начинаются с большой буквы - если не с большой, то заменяет букву на большую;\n",
        "* возраст должен быть числом от 18 до 60;\n",
        "* ID - целое число, дополненное до 8 знаков незначащими нулями, ID должен быть уникальным.\n",
        "\n",
        "**Дополнительно:** написать функцию, которая будет выводить полученный словарь в виде таблицы."
      ]
    },
    {
      "cell_type": "code",
      "execution_count": null,
      "id": "54d1f971",
      "metadata": {
        "id": "54d1f971"
      },
      "outputs": [],
      "source": [
        "# ВАШ КОД ЗДЕСЬ"
      ]
    }
  ],
  "metadata": {
    "kernelspec": {
      "display_name": ".venv (3.11.12)",
      "language": "python",
      "name": "python3"
    },
    "language_info": {
      "name": "python",
      "version": "3.11.12"
    },
    "colab": {
      "provenance": []
    }
  },
  "nbformat": 4,
  "nbformat_minor": 5
}